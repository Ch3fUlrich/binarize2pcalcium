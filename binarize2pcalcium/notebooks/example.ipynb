{
 "cells": [
  {
   "cell_type": "code",
   "execution_count": 1,
   "metadata": {},
   "outputs": [
    {
     "name": "stderr",
     "output_type": "stream",
     "text": [
      "/home/cat/.conda/envs/btrans/lib/python3.8/site-packages/tqdm/auto.py:21: TqdmWarning: IProgress not found. Please update jupyter and ipywidgets. See https://ipywidgets.readthedocs.io/en/stable/user_install.html\n",
      "  from .autonotebook import tqdm as notebook_tqdm\n"
     ]
    }
   ],
   "source": [
    "from binarize2pcalcium.binarize2pcalcium import Calcium "
   ]
  },
  {
   "cell_type": "code",
   "execution_count": 2,
   "metadata": {},
   "outputs": [
    {
     "name": "stdout",
     "output_type": "stream",
     "text": [
      "remove bad cells:  True\n"
     ]
    },
    {
     "name": "stderr",
     "output_type": "stream",
     "text": [
      "low pass filter: 100%|██████████| 68/68 [00:00<00:00, 729.89it/s]\n",
      "model filter: remove bleaching or trends: 100%|██████████| 68/68 [00:02<00:00, 28.22it/s]\n",
      "100%|██████████| 68/68 [00:01<00:00, 54.93it/s]\n",
      "binarizing continuous traces : 100%|██████████| 68/68 [00:00<00:00, 113.77it/s]\n",
      "binarizing continuous traces : 100%|██████████| 68/68 [00:01<00:00, 63.03it/s]\n"
     ]
    },
    {
     "name": "stdout",
     "output_type": "stream",
     "text": [
      "...saving data...\n",
      "...saving figures...\n"
     ]
    }
   ],
   "source": [
    "suite2p_dir = '/media/cat/8TB/donato/bmi/DON-014266/20230207/plane0/'\n",
    "\n",
    "#\n",
    "#root\n",
    "bc = Binarize()\n",
    "bc.data_type = '2p'\n",
    "#\n",
    "bc.binarize_suite2p_from_folder(suite2p_dir)\n",
    "                                "
   ]
  },
  {
   "cell_type": "code",
   "execution_count": null,
   "metadata": {},
   "outputs": [],
   "source": [
    "b = Binarize."
   ]
  }
 ],
 "metadata": {
  "kernelspec": {
   "display_name": "btrans",
   "language": "python",
   "name": "python3"
  },
  "language_info": {
   "codemirror_mode": {
    "name": "ipython",
    "version": 3
   },
   "file_extension": ".py",
   "mimetype": "text/x-python",
   "name": "python",
   "nbconvert_exporter": "python",
   "pygments_lexer": "ipython3",
   "version": "3.8.17"
  }
 },
 "nbformat": 4,
 "nbformat_minor": 2
}
